{
 "cells": [
  {
   "cell_type": "code",
   "execution_count": 1,
   "id": "33242303",
   "metadata": {},
   "outputs": [],
   "source": [
    "import numpy as np"
   ]
  },
  {
   "cell_type": "code",
   "execution_count": 2,
   "id": "14e5e347",
   "metadata": {},
   "outputs": [],
   "source": [
    "x = np.array([[1,0,1,0],[1,0,1,1],[0,1,1,1]])\n",
    "y = np.array([[1],[1],[0]])"
   ]
  },
  {
   "cell_type": "code",
   "execution_count": 3,
   "id": "0ff129da",
   "metadata": {},
   "outputs": [
    {
     "data": {
      "text/plain": [
       "array([[1, 0, 1, 0],\n",
       "       [1, 0, 1, 1],\n",
       "       [0, 1, 1, 1]])"
      ]
     },
     "execution_count": 3,
     "metadata": {},
     "output_type": "execute_result"
    }
   ],
   "source": [
    "x"
   ]
  },
  {
   "cell_type": "code",
   "execution_count": 4,
   "id": "ef999799",
   "metadata": {},
   "outputs": [
    {
     "data": {
      "text/plain": [
       "array([[1],\n",
       "       [1],\n",
       "       [0]])"
      ]
     },
     "execution_count": 4,
     "metadata": {},
     "output_type": "execute_result"
    }
   ],
   "source": [
    "y"
   ]
  },
  {
   "cell_type": "code",
   "execution_count": 5,
   "id": "40de6c5d",
   "metadata": {},
   "outputs": [],
   "source": [
    "def signoid(x):\n",
    "    return 1 / (1 + np.exp(-x))"
   ]
  },
  {
   "cell_type": "code",
   "execution_count": 6,
   "id": "b98ede98",
   "metadata": {},
   "outputs": [],
   "source": [
    "def signoid_derivative(x):\n",
    "    return x * (1 - x)"
   ]
  },
  {
   "cell_type": "code",
   "execution_count": 7,
   "id": "c387ca0a",
   "metadata": {},
   "outputs": [
    {
     "data": {
      "text/plain": [
       "4"
      ]
     },
     "execution_count": 7,
     "metadata": {},
     "output_type": "execute_result"
    }
   ],
   "source": [
    "x.shape[1]    # columns"
   ]
  },
  {
   "cell_type": "code",
   "execution_count": 8,
   "id": "2c0ed271",
   "metadata": {},
   "outputs": [],
   "source": [
    "epochs = 20000\n",
    "alpha = 0.01\n",
    "inputNeurons = x.shape[1]\n",
    "hiddenNeurons = 3\n",
    "outputNeurons = 1"
   ]
  },
  {
   "cell_type": "code",
   "execution_count": 9,
   "id": "df85298b",
   "metadata": {},
   "outputs": [],
   "source": [
    "wh = np.random.uniform(size=(inputNeurons, hiddenNeurons)) #(4,3)\n",
    "bh = np.random.uniform(size=(1, hiddenNeurons))   #(1,3)\n",
    "wout = np.random.uniform(size=(hiddenNeurons, outputNeurons))    #(3,1)\n",
    "bout = np.random.uniform(size=(1, outputNeurons))    #(1,1)"
   ]
  },
  {
   "cell_type": "code",
   "execution_count": 10,
   "id": "358d9ecb",
   "metadata": {},
   "outputs": [],
   "source": [
    "#    Input Layer -> Hidden Layer\n",
    "\n",
    "fx = np.dot(x,wh) + bh\n",
    "z = signoid(fx)\n",
    "\n",
    "#    Hidden Layer -> Output Layer\n",
    "\n",
    "fx = np.dot(z,wout) + bout\n",
    "z_out = signoid(fx)"
   ]
  },
  {
   "cell_type": "code",
   "execution_count": 11,
   "id": "c9e0649a",
   "metadata": {},
   "outputs": [
    {
     "data": {
      "text/plain": [
       "array([[2.00658295],\n",
       "       [2.10195094],\n",
       "       [2.10880106]])"
      ]
     },
     "execution_count": 11,
     "metadata": {},
     "output_type": "execute_result"
    }
   ],
   "source": [
    "fx"
   ]
  },
  {
   "cell_type": "code",
   "execution_count": 12,
   "id": "d625c716",
   "metadata": {},
   "outputs": [
    {
     "data": {
      "text/plain": [
       "array([[0.88148652],\n",
       "       [0.89109265],\n",
       "       [0.89175566]])"
      ]
     },
     "execution_count": 12,
     "metadata": {},
     "output_type": "execute_result"
    }
   ],
   "source": [
    "z_out"
   ]
  },
  {
   "cell_type": "code",
   "execution_count": 13,
   "id": "9c4dd262",
   "metadata": {},
   "outputs": [],
   "source": [
    "#  Back Propagataion\n",
    "\n",
    "errorOutputLayer = y - z_out\n",
    "slopeOutputLayer = signoid_derivative(z_out)\n",
    "deltaOutputLayer = errorOutputLayer * slopeOutputLayer\n",
    "\n",
    "errorHiddenLayer = deltaOutputLayer.dot(wout.T)\n",
    "slopeHiddenLayer = signoid_derivative(z)\n",
    "deltaHiddenLayer = errorHiddenLayer * slopeHiddenLayer\n"
   ]
  },
  {
   "cell_type": "code",
   "execution_count": 17,
   "id": "ef4a53d1",
   "metadata": {},
   "outputs": [],
   "source": [
    "wout += z.T.dot(deltaOutputLayer)  * alpha\n",
    "bout += np.sum(deltaOutputLayer,  axis=0 , keepdims=True ) * alpha\n",
    "wh += x.T.dot(deltaHiddenLayer) * alpha\n",
    "bh += np.sum(deltaHiddenLayer, axis=0 , keepdims=True) * alpha"
   ]
  },
  {
   "cell_type": "code",
   "execution_count": 18,
   "id": "149eb8e6",
   "metadata": {},
   "outputs": [],
   "source": [
    "for i in range(epochs):\n",
    "\n",
    "    fx = np.dot(x,wh) + bh\n",
    "    z = signoid(fx)\n",
    "\n",
    "    fx = np.dot(z,wout) + bout\n",
    "    z_out = signoid(fx)\n",
    "    \n",
    "    errorOutputLayer = y - z_out\n",
    "    slopeOutputLayer = signoid_derivative(z_out)\n",
    "    deltaOutputLayer = errorOutputLayer * slopeOutputLayer\n",
    "\n",
    "    errorHiddenLayer = deltaOutputLayer.dot(wout.T)\n",
    "    slopeHiddenLayer = signoid_derivative(z)\n",
    "    deltaHiddenLayer = errorHiddenLayer * slopeHiddenLayer\n",
    "\n",
    "    \n",
    "    wout += z.T.dot(deltaOutputLayer)  * alpha\n",
    "    bout += np.sum(deltaOutputLayer,  axis=0  , keepdims=True) * alpha\n",
    "    wh += x.T.dot(deltaHiddenLayer) * alpha\n",
    "    bh += np.sum(deltaHiddenLayer, axis=0 , keepdims=True) * alpha"
   ]
  },
  {
   "cell_type": "code",
   "execution_count": 19,
   "id": "4bdc99fc",
   "metadata": {},
   "outputs": [
    {
     "data": {
      "text/plain": [
       "array([[0.97822729],\n",
       "       [0.96258765],\n",
       "       [0.04428877]])"
      ]
     },
     "execution_count": 19,
     "metadata": {},
     "output_type": "execute_result"
    }
   ],
   "source": [
    "z_out"
   ]
  },
  {
   "cell_type": "code",
   "execution_count": null,
   "id": "7e5b9204",
   "metadata": {},
   "outputs": [],
   "source": []
  }
 ],
 "metadata": {
  "kernelspec": {
   "display_name": "Python 3",
   "language": "python",
   "name": "python3"
  },
  "language_info": {
   "codemirror_mode": {
    "name": "ipython",
    "version": 3
   },
   "file_extension": ".py",
   "mimetype": "text/x-python",
   "name": "python",
   "nbconvert_exporter": "python",
   "pygments_lexer": "ipython3",
   "version": "3.8.8"
  }
 },
 "nbformat": 4,
 "nbformat_minor": 5
}
