{
 "cells": [
  {
   "cell_type": "code",
   "execution_count": 1,
   "id": "90fea18b",
   "metadata": {},
   "outputs": [],
   "source": [
    "import numpy as np"
   ]
  },
  {
   "cell_type": "code",
   "execution_count": 2,
   "id": "568fa180",
   "metadata": {},
   "outputs": [],
   "source": [
    "X = np.array([[1,0,1,0], [1,0,1,1],[0,1,0,1]])\n",
    "y = np.array([[1],[1],[0]])"
   ]
  },
  {
   "cell_type": "code",
   "execution_count": 3,
   "id": "dd0a95ad",
   "metadata": {},
   "outputs": [
    {
     "data": {
      "text/plain": [
       "array([[1, 0, 1, 0],\n",
       "       [1, 0, 1, 1],\n",
       "       [0, 1, 0, 1]])"
      ]
     },
     "execution_count": 3,
     "metadata": {},
     "output_type": "execute_result"
    }
   ],
   "source": [
    "X"
   ]
  },
  {
   "cell_type": "code",
   "execution_count": 4,
   "id": "152a6a78",
   "metadata": {},
   "outputs": [
    {
     "data": {
      "text/plain": [
       "array([[1],\n",
       "       [1],\n",
       "       [0]])"
      ]
     },
     "execution_count": 4,
     "metadata": {},
     "output_type": "execute_result"
    }
   ],
   "source": [
    "y"
   ]
  },
  {
   "cell_type": "code",
   "execution_count": 5,
   "id": "2f928bcd",
   "metadata": {},
   "outputs": [],
   "source": [
    "def sigmoid(x):\n",
    "    return 1 / (1 + np.exp(-x))"
   ]
  },
  {
   "cell_type": "code",
   "execution_count": 6,
   "id": "fd17f94a",
   "metadata": {},
   "outputs": [],
   "source": [
    "def sigmoid_derivative(x):\n",
    "    return x * (1 - x)"
   ]
  },
  {
   "cell_type": "code",
   "execution_count": 21,
   "id": "8890a8a6",
   "metadata": {},
   "outputs": [],
   "source": [
    "epochs = 20000\n",
    "alpha = 0.01\n",
    "inputNeurons = X.shape[1]\n",
    "hiddenNeurons = 3\n",
    "outputNeurons = 1"
   ]
  },
  {
   "cell_type": "code",
   "execution_count": 22,
   "id": "fee0d181",
   "metadata": {},
   "outputs": [],
   "source": [
    "wh = np.random.uniform(size=(inputNeurons, hiddenNeurons))\n",
    "bh = np.random.uniform(size=(1,hiddenNeurons))\n",
    "wout = np.random.uniform(size=(hiddenNeurons, outputNeurons))\n",
    "bout = np.random.uniform(size=(1,outputNeurons))"
   ]
  },
  {
   "cell_type": "code",
   "execution_count": 10,
   "id": "13edb110",
   "metadata": {},
   "outputs": [],
   "source": [
    "# Feedforward\n",
    "\n",
    "# Input Layer -> Hidden Layer\n",
    "fx = np.dot(X,wh) + bh\n",
    "z = sigmoid(fx)\n",
    "\n",
    "# Hidden Layer -> Output Layer\n",
    "fx = np.dot(z,wout) + bout\n",
    "z_out = sigmoid(fx)"
   ]
  },
  {
   "cell_type": "code",
   "execution_count": 11,
   "id": "b33390ca",
   "metadata": {},
   "outputs": [
    {
     "data": {
      "text/plain": [
       "array([[2.03561904],\n",
       "       [2.13365325],\n",
       "       [2.04327168]])"
      ]
     },
     "execution_count": 11,
     "metadata": {},
     "output_type": "execute_result"
    }
   ],
   "source": [
    "fx"
   ]
  },
  {
   "cell_type": "code",
   "execution_count": 12,
   "id": "a935be5d",
   "metadata": {},
   "outputs": [
    {
     "data": {
      "text/plain": [
       "array([[0.88448642],\n",
       "       [0.89413132],\n",
       "       [0.88526599]])"
      ]
     },
     "execution_count": 12,
     "metadata": {},
     "output_type": "execute_result"
    }
   ],
   "source": [
    "z_out"
   ]
  },
  {
   "cell_type": "code",
   "execution_count": 13,
   "id": "ebe6744b",
   "metadata": {},
   "outputs": [],
   "source": [
    "# Backpropagation\n",
    "\n",
    "errorOutputLayer = y - z_out\n",
    "slopeOutputLayer = sigmoid_derivative(z_out)\n",
    "deltaOutputLayer = errorOutputLayer * slopeOutputLayer\n",
    "\n",
    "errorHiddenLayer = deltaOutputLayer.dot(wout.T)\n",
    "slopeHiddenLayer = sigmoid_derivative(z)\n",
    "deltaHiddenLayer = errorHiddenLayer * slopeHiddenLayer"
   ]
  },
  {
   "cell_type": "code",
   "execution_count": 14,
   "id": "f543d82e",
   "metadata": {},
   "outputs": [],
   "source": [
    "wout += z.T.dot(deltaOutputLayer) * alpha\n",
    "bout += np.sum(deltaOutputLayer, axis=0, keepdims=True) * alpha\n",
    "wh += X.T.dot(deltaHiddenLayer) * alpha\n",
    "bh += np.sum(deltaHiddenLayer, axis=0, keepdims=True) * alpha"
   ]
  },
  {
   "cell_type": "code",
   "execution_count": 23,
   "id": "b40856c6",
   "metadata": {},
   "outputs": [],
   "source": [
    "for i in range(epochs):\n",
    "    # Feedforward\n",
    "\n",
    "    # Input Layer -> Hidden Layer\n",
    "    fx = np.dot(X,wh) + bh\n",
    "    z = sigmoid(fx)\n",
    "\n",
    "    # Hidden Layer -> Output Layer\n",
    "    fx = np.dot(z,wout) + bout\n",
    "    z_out = sigmoid(fx)\n",
    "    \n",
    "    # Backpropagation\n",
    "\n",
    "    errorOutputLayer = y - z_out\n",
    "    slopeOutputLayer = sigmoid_derivative(z_out)\n",
    "    deltaOutputLayer = errorOutputLayer * slopeOutputLayer\n",
    "\n",
    "    errorHiddenLayer = deltaOutputLayer.dot(wout.T)\n",
    "    slopeHiddenLayer = sigmoid_derivative(z)\n",
    "    deltaHiddenLayer = errorHiddenLayer * slopeHiddenLayer\n",
    "    \n",
    "    wout += z.T.dot(deltaOutputLayer) * alpha\n",
    "    bout += np.sum(deltaOutputLayer, axis=0, keepdims=True) * alpha\n",
    "    wh += X.T.dot(deltaHiddenLayer) * alpha\n",
    "    bh += np.sum(deltaHiddenLayer, axis=0, keepdims=True) * alpha\n"
   ]
  },
  {
   "cell_type": "code",
   "execution_count": 24,
   "id": "8d3e8d1e",
   "metadata": {},
   "outputs": [
    {
     "data": {
      "text/plain": [
       "array([[0.96469836],\n",
       "       [0.9474319 ],\n",
       "       [0.0713563 ]])"
      ]
     },
     "execution_count": 24,
     "metadata": {},
     "output_type": "execute_result"
    }
   ],
   "source": [
    "z_out"
   ]
  },
  {
   "cell_type": "code",
   "execution_count": null,
   "id": "5c0e3816",
   "metadata": {},
   "outputs": [],
   "source": []
  }
 ],
 "metadata": {
  "kernelspec": {
   "display_name": "Python 3",
   "language": "python",
   "name": "python3"
  },
  "language_info": {
   "codemirror_mode": {
    "name": "ipython",
    "version": 3
   },
   "file_extension": ".py",
   "mimetype": "text/x-python",
   "name": "python",
   "nbconvert_exporter": "python",
   "pygments_lexer": "ipython3",
   "version": "3.8.8"
  }
 },
 "nbformat": 4,
 "nbformat_minor": 5
}
