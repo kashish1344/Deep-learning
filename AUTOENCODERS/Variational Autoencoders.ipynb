{
 "cells": [
  {
   "cell_type": "code",
   "execution_count": 1,
   "id": "00e01f0f",
   "metadata": {},
   "outputs": [
    {
     "name": "stderr",
     "output_type": "stream",
     "text": [
      "WARNING: You are using pip version 20.1.1; however, version 21.3.1 is available.\n",
      "You should consider upgrading via the 'c:\\python37\\python.exe -m pip install --upgrade pip' command.\n"
     ]
    },
    {
     "name": "stdout",
     "output_type": "stream",
     "text": [
      "Collecting tensorflow-probability\n",
      "  Downloading tensorflow_probability-0.15.0-py2.py3-none-any.whl (5.7 MB)\n",
      "Collecting dm-tree\n",
      "  Using cached dm_tree-0.1.6-cp37-cp37m-win_amd64.whl (75 kB)\n",
      "Requirement already satisfied: absl-py in c:\\python37\\lib\\site-packages (from tensorflow-probability) (1.0.0)\n",
      "Requirement already satisfied: six>=1.10.0 in c:\\python37\\lib\\site-packages (from tensorflow-probability) (1.16.0)\n",
      "Requirement already satisfied: gast>=0.3.2 in c:\\python37\\lib\\site-packages (from tensorflow-probability) (0.4.0)\n",
      "Requirement already satisfied: decorator in c:\\python37\\lib\\site-packages (from tensorflow-probability) (5.1.0)\n",
      "Collecting cloudpickle>=1.3\n",
      "  Downloading cloudpickle-2.0.0-py3-none-any.whl (25 kB)\n",
      "Requirement already satisfied: numpy>=1.13.3 in c:\\python37\\lib\\site-packages (from tensorflow-probability) (1.21.4)\n",
      "Installing collected packages: dm-tree, cloudpickle, tensorflow-probability\n",
      "Successfully installed cloudpickle-2.0.0 dm-tree-0.1.6 tensorflow-probability-0.15.0\n"
     ]
    }
   ],
   "source": [
    "! pip install tensorflow-probability\n",
    "import matplotlib.pyplot as plt\n",
    "import numpy as np\n",
    "import pandas as pd\n",
    "import tensorflow as tf\n",
    "import tensorflow_probability as tfp\n",
    "import PIL"
   ]
  },
  {
   "cell_type": "code",
   "execution_count": 2,
   "id": "edfd299d",
   "metadata": {},
   "outputs": [],
   "source": [
    "(train_images, _), (test_images, _) = tf.keras.datasets.mnist.load_data() "
   ]
  },
  {
   "cell_type": "code",
   "execution_count": 3,
   "id": "4181be79",
   "metadata": {},
   "outputs": [
    {
     "data": {
      "text/plain": [
       "((60000, 28, 28), (10000, 28, 28))"
      ]
     },
     "execution_count": 3,
     "metadata": {},
     "output_type": "execute_result"
    }
   ],
   "source": [
    "train_images.shape, test_images.shape"
   ]
  },
  {
   "cell_type": "code",
   "execution_count": 5,
   "id": "5ef9d087",
   "metadata": {},
   "outputs": [],
   "source": [
    "def preprocess_images(image):\n",
    "    image = image.reshape(image.shape[0], 28, 28, 1)\n",
    "    return np.where(image > 0.5, 1.0, 0.0).astype(\"float32\")\n",
    "\n",
    "train_images = preprocess_images(train_images)\n",
    "test_images = preprocess_images(test_images)\n",
    "    "
   ]
  },
  {
   "cell_type": "code",
   "execution_count": 6,
   "id": "2588ee77",
   "metadata": {},
   "outputs": [
    {
     "data": {
      "text/plain": [
       "<matplotlib.image.AxesImage at 0x1c5a7182108>"
      ]
     },
     "execution_count": 6,
     "metadata": {},
     "output_type": "execute_result"
    },
    {
     "data": {
      "image/png": "[encoded data removed]",
      "text/plain": [
       "<Figure size 432x288 with 1 Axes>"
      ]
     },
     "metadata": {
      "needs_background": "light"
     },
     "output_type": "display_data"
    }
   ],
   "source": [
    "plt.imshow(train_images[0])"
   ]
  },
  {
   "cell_type": "code",
   "execution_count": 7,
   "id": "905e7248",
   "metadata": {},
   "outputs": [],
   "source": [
    "train_size = 60000\n",
    "test_size = 10000\n",
    "batch_size = 32"
   ]
  },
  {
   "cell_type": "code",
   "execution_count": 8,
   "id": "76b1c2f1",
   "metadata": {},
   "outputs": [],
   "source": [
    "train_dataset = tf.data.Dataset.from_tensor_slices(train_images).shuffle(train_size).batch(batch_size)\n",
    "test_dataset = tf.data.Dataset.from_tensor_slices(test_images).shuffle(test_size).batch(batch_size)"
   ]
  },
  {
   "cell_type": "code",
   "execution_count": 9,
   "id": "1ea7f91e",
   "metadata": {},
   "outputs": [],
   "source": [
    "class CVAE(tf.keras.Model):\n",
    "    def __init__(self, latent_dim):\n",
    "        super().__init__()\n",
    "        self.laten_dim = laten_dim\n",
    "        self.encoder = tf.keras.Sequential([\n",
    "            tf.keras.layer.InputLayer(input_shape=(28, 28, 1)),\n",
    "            tf.keras.layers.Conv2D(filters=32, kernel_size=3, strides=(2,2), activation=\"relu\"),\n",
    "            tf.keras.layers.Conv2D(filters=64, kenrel_size=3, strides=(2,2), activation=\"relu\"),\n",
    "            tf.keras.layers.Flatten(),\n",
    "            tf.keras.layers.Dense(laten_dim + laten_dim)\n",
    "        ])\n",
    "        \n",
    "        self.decoder = tf.keras.Sequential([\n",
    "            tf.keras.layers.InputLayer(input_shape=(laten_dim)),\n",
    "            tf.keras.layers.Dense(7*7*32, activation=\"relu\"),\n",
    "            tf.keras.layers.Reshape(target_shape=(7, 7, 32)), \n",
    "            tf.keras.layers.Conv2DTranspose(filters=64, kernel_size=3, strides=2, padding=\"same\", activation=\"relu\"),\n",
    "            tf.keras.layers.Conv2DTranspose(filters=32, kernel_size=3, strides=2, padding=\"same\", activation=\"relu\"),\n",
    "            tf.keras.layers.Conv2DTranspose(filters=1, kernel_size=3, strides=1, padding=\"same\")\n",
    "        ])\n",
    "        \n",
    "@tf.function\n",
    "def sample(self, eps=None):\n",
    "    if eps is None:\n",
    "        eps = tf.random.normal(shape=(100, self.laten_dim))\n",
    "    return self.decode(eps, apply_sigmoid=True)\n",
    "def encode(self, x):\n",
    "    mean, logvar = tf.split(self.encoder(x), num_or_size_splits=2, axis=1)\n",
    "    return mean, logvar\n",
    "def reparameterize(self, mean, logvar):\n",
    "    eps = tf.random.normal(shape=mean.shape)\n",
    "    return eps * tf.exp(logvar * 0.5) + mean\n",
    "def decode(self, z, apply_sigmoid=False):\n",
    "    logits = self.decoder(z)\n",
    "    if apply_sigmoid:\n",
    "        probs = tf.sigmoid(logits)\n",
    "        return probs\n",
    "    return logits\n",
    "    \n"
   ]
  },
  {
   "cell_type": "code",
   "execution_count": null,
   "id": "778004cb",
   "metadata": {},
   "outputs": [],
   "source": [
    "optimizer = tf.keras.optimizers.Adam(1e-4)\n",
    "\n",
    "def log_normal_pdf(sample, mean, logvar, raxis=1):\n",
    "    log2pi = tf.math.log(2. * np.pi)\n",
    "    return tf.reduce_sum(-0.5 * (sample - mean) **2 * tf.exp(-logvar) + logvar +log2pi), aixs=raxis)\n",
    "\n"
   ]
  }
 ],
 "metadata": {
  "kernelspec": {
   "display_name": "Python 3",
   "language": "python",
   "name": "python3"
  },
  "language_info": {
   "codemirror_mode": {
    "name": "ipython",
    "version": 3
   },
   "file_extension": ".py",
   "mimetype": "text/x-python",
   "name": "python",
   "nbconvert_exporter": "python",
   "pygments_lexer": "ipython3",
   "version": "3.8.8"
  }
 },
 "nbformat": 4,
 "nbformat_minor": 5
}
