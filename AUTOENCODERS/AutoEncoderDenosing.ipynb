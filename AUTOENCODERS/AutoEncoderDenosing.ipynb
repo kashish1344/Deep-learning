{
 "cells": [
  {
   "cell_type": "code",
   "execution_count": 1,
   "metadata": {},
   "outputs": [
    {
     "name": "stdout",
     "output_type": "stream",
     "text": [
      "INFO:tensorflow:Enabling eager execution\n",
      "INFO:tensorflow:Enabling v2 tensorshape\n",
      "INFO:tensorflow:Enabling resource variables\n",
      "INFO:tensorflow:Enabling tensor equality\n",
      "INFO:tensorflow:Enabling control flow v2\n"
     ]
    }
   ],
   "source": [
    "from tensorflow.keras.layers import Input, Dense, Conv2D, MaxPooling2D, UpSampling2D\n",
    "from tensorflow.keras.models import Model\n",
    "from tensorflow.keras.datasets import mnist\n",
    "import numpy as np\n",
    "import matplotlib.pyplot as plt"
   ]
  },
  {
   "cell_type": "code",
   "execution_count": 2,
   "metadata": {},
   "outputs": [],
   "source": [
    "input_img = Input(shape=(28,28,1))"
   ]
  },
  {
   "cell_type": "code",
   "execution_count": 3,
   "metadata": {},
   "outputs": [],
   "source": [
    "x = Conv2D(32, (3,3), activation=\"relu\", padding=\"same\")(input_img)\n",
    "x = MaxPooling2D((2,2),padding=\"same\")(x)\n",
    "x = Conv2D(32, (3,3), activation=\"relu\", padding=\"same\")(x)\n",
    "encoded = MaxPooling2D((2,2), padding=\"same\")(x)"
   ]
  },
  {
   "cell_type": "code",
   "execution_count": 4,
   "metadata": {},
   "outputs": [],
   "source": [
    "x = Conv2D(32, (3,3), activation=\"relu\", padding=\"same\")(encoded)\n",
    "x = UpSampling2D((2,2))(x)\n",
    "x = Conv2D(32, (3,3), activation=\"relu\", padding=\"same\")(x)\n",
    "x = UpSampling2D((2,2))(x)\n",
    "decoded = Conv2D(1,(3,3), activation=\"sigmoid\", padding=\"same\")(x)"
   ]
  },
  {
   "cell_type": "code",
   "execution_count": 5,
   "metadata": {},
   "outputs": [],
   "source": [
    "autoencoder = Model(input_img, decoded)\n",
    "autoencoder.compile(optimizer=\"adadelta\", loss=\"binary_crossentropy\")"
   ]
  },
  {
   "cell_type": "code",
   "execution_count": 6,
   "metadata": {},
   "outputs": [],
   "source": [
    "(x_train, _), (x_test, _) = mnist.load_data()"
   ]
  },
  {
   "cell_type": "code",
   "execution_count": 7,
   "metadata": {},
   "outputs": [],
   "source": [
    "x_train = x_train/255.\n",
    "x_test = x_test/255."
   ]
  },
  {
   "cell_type": "code",
   "execution_count": 8,
   "metadata": {},
   "outputs": [
    {
     "data": {
      "text/plain": [
       "((60000, 28, 28), (10000, 28, 28))"
      ]
     },
     "execution_count": 8,
     "metadata": {},
     "output_type": "execute_result"
    }
   ],
   "source": [
    "x_train.shape, x_test.shape"
   ]
  },
  {
   "cell_type": "code",
   "execution_count": 9,
   "metadata": {},
   "outputs": [
    {
     "data": {
      "text/plain": [
       "60000"
      ]
     },
     "execution_count": 9,
     "metadata": {},
     "output_type": "execute_result"
    }
   ],
   "source": [
    "len(x_train)"
   ]
  },
  {
   "cell_type": "code",
   "execution_count": 10,
   "metadata": {},
   "outputs": [],
   "source": [
    "x_train = np.reshape(x_train,(len(x_train),28,28,1))\n",
    "x_test = np.reshape(x_test,(len(x_test),28,28,1))"
   ]
  },
  {
   "cell_type": "code",
   "execution_count": 11,
   "metadata": {},
   "outputs": [
    {
     "data": {
      "text/plain": [
       "(60000, 28, 28, 1)"
      ]
     },
     "execution_count": 11,
     "metadata": {},
     "output_type": "execute_result"
    }
   ],
   "source": [
    "x_train.shape"
   ]
  },
  {
   "cell_type": "code",
   "execution_count": 12,
   "metadata": {},
   "outputs": [],
   "source": [
    "noise_factor = 0.5\n",
    "x_train_noisy = x_train + noise_factor * np.random.normal(size=x_train.shape)\n",
    "x_test_noisy = x_test + noise_factor * np.random.normal(size=x_test.shape)"
   ]
  },
  {
   "cell_type": "code",
   "execution_count": 13,
   "metadata": {},
   "outputs": [],
   "source": [
    "x_train_noisy = np.clip(x_train_noisy,0.,1.)\n",
    "x_test_noisy = np.clip(x_test,0.,1.)"
   ]
  },
  {
   "cell_type": "code",
   "execution_count": 14,
   "metadata": {},
   "outputs": [
    {
     "data": {
      "image/png": "[encoded data removed]",
      "text/plain": [
       "<Figure size 432x288 with 1 Axes>"
      ]
     },
     "metadata": {
      "needs_background": "light"
     },
     "output_type": "display_data"
    }
   ],
   "source": [
    "plt.imshow(x_train_noisy[0].reshape(28,28))\n",
    "plt.show()"
   ]
  },
  {
   "cell_type": "code",
   "execution_count": 15,
   "metadata": {},
   "outputs": [
    {
     "name": "stdout",
     "output_type": "stream",
     "text": [
      "Epoch 1/75\n",
      "938/938 [==============================] - 142s 149ms/step - loss: 0.6836 - val_loss: 0.6611\n",
      "Epoch 2/75\n",
      "938/938 [==============================] - 141s 150ms/step - loss: 0.5897 - val_loss: 0.5693\n",
      "Epoch 3/75\n",
      "938/938 [==============================] - 137s 146ms/step - loss: 0.4924 - val_loss: 0.5439\n",
      "Epoch 4/75\n",
      "938/938 [==============================] - 137s 146ms/step - loss: 0.4749 - val_loss: 0.5196\n",
      "Epoch 5/75\n",
      "938/938 [==============================] - 652s 696ms/step - loss: 0.4575 - val_loss: 0.4905\n",
      "Epoch 6/75\n",
      "938/938 [==============================] - 125s 134ms/step - loss: 0.4353 - val_loss: 0.4525\n",
      "Epoch 7/75\n",
      "938/938 [==============================] - 134s 143ms/step - loss: 0.4043 - val_loss: 0.3999\n",
      "Epoch 8/75\n",
      "938/938 [==============================] - 149s 159ms/step - loss: 0.3611 - val_loss: 0.3361\n",
      "Epoch 9/75\n",
      "938/938 [==============================] - 147s 157ms/step - loss: 0.3093 - val_loss: 0.2790\n",
      "Epoch 10/75\n",
      "938/938 [==============================] - 147s 157ms/step - loss: 0.2654 - val_loss: 0.2460\n",
      "Epoch 11/75\n",
      "938/938 [==============================] - 148s 158ms/step - loss: 0.2417 - val_loss: 0.2285\n",
      "Epoch 12/75\n",
      "938/938 [==============================] - 146s 156ms/step - loss: 0.2294 - val_loss: 0.2170\n",
      "Epoch 13/75\n",
      "938/938 [==============================] - 154s 164ms/step - loss: 0.2206 - val_loss: 0.2078\n",
      "Epoch 14/75\n",
      "938/938 [==============================] - 156s 167ms/step - loss: 0.2132 - val_loss: 0.1998\n",
      "Epoch 15/75\n",
      "938/938 [==============================] - 157s 167ms/step - loss: 0.2068 - val_loss: 0.1925\n",
      "Epoch 16/75\n",
      "938/938 [==============================] - 154s 164ms/step - loss: 0.2013 - val_loss: 0.1860\n",
      "Epoch 17/75\n",
      "938/938 [==============================] - 153s 163ms/step - loss: 0.1958 - val_loss: 0.1800\n",
      "Epoch 18/75\n",
      "938/938 [==============================] - 154s 164ms/step - loss: 0.1909 - val_loss: 0.1747\n",
      "Epoch 19/75\n",
      "938/938 [==============================] - 151s 161ms/step - loss: 0.1864 - val_loss: 0.1700\n",
      "Epoch 20/75\n",
      "938/938 [==============================] - 154s 165ms/step - loss: 0.1828 - val_loss: 0.1659\n",
      "Epoch 21/75\n",
      "938/938 [==============================] - 159s 169ms/step - loss: 0.1794 - val_loss: 0.1624\n",
      "Epoch 22/75\n",
      "938/938 [==============================] - 157s 168ms/step - loss: 0.1765 - val_loss: 0.1593\n",
      "Epoch 23/75\n",
      "938/938 [==============================] - 185s 198ms/step - loss: 0.1738 - val_loss: 0.1565\n",
      "Epoch 24/75\n",
      "938/938 [==============================] - 173s 184ms/step - loss: 0.1718 - val_loss: 0.1541\n",
      "Epoch 25/75\n",
      "938/938 [==============================] - 170s 181ms/step - loss: 0.1698 - val_loss: 0.1518\n",
      "Epoch 26/75\n",
      "938/938 [==============================] - 185s 197ms/step - loss: 0.1678 - val_loss: 0.1499\n",
      "Epoch 27/75\n",
      "938/938 [==============================] - 154s 164ms/step - loss: 0.1663 - val_loss: 0.1480\n",
      "Epoch 28/75\n",
      "938/938 [==============================] - 153s 163ms/step - loss: 0.1651 - val_loss: 0.1463\n",
      "Epoch 29/75\n",
      "938/938 [==============================] - 152s 162ms/step - loss: 0.1639 - val_loss: 0.1446\n",
      "Epoch 30/75\n",
      "938/938 [==============================] - 153s 164ms/step - loss: 0.1623 - val_loss: 0.1429\n",
      "Epoch 31/75\n",
      "938/938 [==============================] - 157s 167ms/step - loss: 0.1613 - val_loss: 0.1414\n",
      "Epoch 32/75\n",
      "938/938 [==============================] - 155s 165ms/step - loss: 0.1601 - val_loss: 0.1400\n",
      "Epoch 33/75\n",
      "938/938 [==============================] - 157s 168ms/step - loss: 0.1588 - val_loss: 0.1386\n",
      "Epoch 34/75\n",
      "938/938 [==============================] - 170s 181ms/step - loss: 0.1578 - val_loss: 0.1373\n",
      "Epoch 35/75\n",
      "938/938 [==============================] - 152s 162ms/step - loss: 0.1569 - val_loss: 0.1360\n",
      "Epoch 36/75\n",
      "938/938 [==============================] - 149s 159ms/step - loss: 0.1557 - val_loss: 0.1349\n",
      "Epoch 37/75\n",
      "938/938 [==============================] - 150s 160ms/step - loss: 0.1550 - val_loss: 0.1337\n",
      "Epoch 38/75\n",
      "938/938 [==============================] - 149s 159ms/step - loss: 0.1538 - val_loss: 0.1326\n",
      "Epoch 39/75\n",
      "938/938 [==============================] - 150s 160ms/step - loss: 0.1532 - val_loss: 0.1316\n",
      "Epoch 40/75\n",
      "938/938 [==============================] - 150s 160ms/step - loss: 0.1522 - val_loss: 0.1306\n",
      "Epoch 41/75\n",
      "938/938 [==============================] - 150s 160ms/step - loss: 0.1514 - val_loss: 0.1297\n",
      "Epoch 42/75\n",
      "938/938 [==============================] - 153s 163ms/step - loss: 0.1507 - val_loss: 0.1289\n",
      "Epoch 43/75\n",
      "938/938 [==============================] - 150s 160ms/step - loss: 0.1501 - val_loss: 0.1280\n",
      "Epoch 44/75\n",
      "938/938 [==============================] - 149s 159ms/step - loss: 0.1489 - val_loss: 0.1274\n",
      "Epoch 45/75\n",
      "938/938 [==============================] - 148s 158ms/step - loss: 0.1485 - val_loss: 0.1266\n",
      "Epoch 46/75\n",
      "938/938 [==============================] - 148s 158ms/step - loss: 0.1476 - val_loss: 0.1259\n",
      "Epoch 47/75\n",
      "938/938 [==============================] - 152s 162ms/step - loss: 0.1469 - val_loss: 0.1254\n",
      "Epoch 48/75\n",
      "938/938 [==============================] - 154s 164ms/step - loss: 0.1465 - val_loss: 0.1247\n",
      "Epoch 49/75\n",
      "938/938 [==============================] - 151s 161ms/step - loss: 0.1458 - val_loss: 0.1241\n",
      "Epoch 50/75\n",
      "938/938 [==============================] - 148s 158ms/step - loss: 0.1453 - val_loss: 0.1234\n",
      "Epoch 51/75\n",
      "938/938 [==============================] - 155s 166ms/step - loss: 0.1446 - val_loss: 0.1230\n",
      "Epoch 52/75\n",
      "938/938 [==============================] - 151s 161ms/step - loss: 0.1444 - val_loss: 0.1225\n",
      "Epoch 53/75\n",
      "938/938 [==============================] - 149s 159ms/step - loss: 0.1436 - val_loss: 0.1220\n",
      "Epoch 54/75\n",
      "938/938 [==============================] - 151s 161ms/step - loss: 0.1430 - val_loss: 0.1215\n",
      "Epoch 55/75\n",
      "938/938 [==============================] - 154s 165ms/step - loss: 0.1424 - val_loss: 0.1212\n",
      "Epoch 56/75\n",
      "938/938 [==============================] - 159s 170ms/step - loss: 0.1419 - val_loss: 0.1208\n",
      "Epoch 57/75\n",
      "938/938 [==============================] - 148s 158ms/step - loss: 0.1417 - val_loss: 0.1204\n",
      "Epoch 58/75\n",
      "938/938 [==============================] - 178s 190ms/step - loss: 0.1409 - val_loss: 0.1199\n",
      "Epoch 59/75\n",
      "938/938 [==============================] - 169s 180ms/step - loss: 0.1406 - val_loss: 0.1196\n",
      "Epoch 60/75\n",
      "938/938 [==============================] - 166s 177ms/step - loss: 0.1400 - val_loss: 0.1194\n",
      "Epoch 61/75\n",
      "938/938 [==============================] - 160s 171ms/step - loss: 0.1398 - val_loss: 0.1192\n",
      "Epoch 62/75\n",
      "938/938 [==============================] - 159s 169ms/step - loss: 0.1394 - val_loss: 0.1187\n",
      "Epoch 63/75\n",
      "938/938 [==============================] - 163s 174ms/step - loss: 0.1388 - val_loss: 0.1183\n",
      "Epoch 64/75\n",
      "938/938 [==============================] - 162s 173ms/step - loss: 0.1386 - val_loss: 0.1182\n",
      "Epoch 65/75\n",
      "938/938 [==============================] - 164s 175ms/step - loss: 0.1381 - val_loss: 0.1178\n",
      "Epoch 66/75\n",
      "938/938 [==============================] - 166s 177ms/step - loss: 0.1377 - val_loss: 0.1178\n",
      "Epoch 67/75\n",
      "938/938 [==============================] - 154s 164ms/step - loss: 0.1374 - val_loss: 0.1174\n",
      "Epoch 68/75\n",
      "938/938 [==============================] - 150s 160ms/step - loss: 0.1371 - val_loss: 0.1173\n",
      "Epoch 69/75\n",
      "938/938 [==============================] - 152s 162ms/step - loss: 0.1367 - val_loss: 0.1173\n",
      "Epoch 70/75\n",
      "938/938 [==============================] - 152s 162ms/step - loss: 0.1362 - val_loss: 0.1167\n",
      "Epoch 71/75\n",
      "938/938 [==============================] - 150s 160ms/step - loss: 0.1361 - val_loss: 0.1167\n",
      "Epoch 72/75\n",
      "938/938 [==============================] - 149s 159ms/step - loss: 0.1358 - val_loss: 0.1166\n",
      "Epoch 73/75\n",
      "938/938 [==============================] - 147s 156ms/step - loss: 0.1354 - val_loss: 0.1162\n",
      "Epoch 74/75\n",
      "938/938 [==============================] - 149s 159ms/step - loss: 0.1350 - val_loss: 0.1164\n",
      "Epoch 75/75\n",
      "938/938 [==============================] - 148s 157ms/step - loss: 0.1348 - val_loss: 0.1159\n"
     ]
    },
    {
     "data": {
      "text/plain": [
       "<tensorflow.python.keras.callbacks.History at 0x16d6c3f37f0>"
      ]
     },
     "execution_count": 15,
     "metadata": {},
     "output_type": "execute_result"
    }
   ],
   "source": [
    "autoencoder.fit(x_train_noisy, x_train, epochs=75, batch_size=64, shuffle=True, \n",
    "                validation_data=(x_test_noisy, x_test))"
   ]
  },
  {
   "cell_type": "code",
   "execution_count": 16,
   "metadata": {},
   "outputs": [
    {
     "data": {
      "image/png": "[encoded data removed]",
      "text/plain": [
       "<Figure size 1440x288 with 20 Axes>"
      ]
     },
     "metadata": {
      "needs_background": "light"
     },
     "output_type": "display_data"
    }
   ],
   "source": [
    "decoded_imgs = autoencoder.predict(x_test_noisy)\n",
    "n = 10\n",
    "plt.figure(figsize=(20,4))\n",
    "for i in range(n):\n",
    "    # display original Images\n",
    "    ax = plt.subplot(2,n,i+1)\n",
    "    plt.imshow(x_test[i].reshape(28,28))\n",
    "    plt.gray()\n",
    "    ax.get_xaxis().set_visible(False)\n",
    "    ax.get_yaxis().set_visible(False)\n",
    "    \n",
    "    # displaly reconstructed Images\n",
    "    ax = plt.subplot(2,n,n+i+1) \n",
    "    plt.imshow(decoded_imgs[i].reshape(28,28))\n",
    "    plt.gray()\n",
    "    ax.get_xaxis().set_visible(False)\n",
    "    ax.get_yaxis().set_visible(False)\n",
    "plt.show()"
   ]
  },
  {
   "cell_type": "code",
   "execution_count": null,
   "metadata": {},
   "outputs": [],
   "source": []
  }
 ],
 "metadata": {
  "kernelspec": {
   "display_name": "Python 3",
   "language": "python",
   "name": "python3"
  },
  "language_info": {
   "codemirror_mode": {
    "name": "ipython",
    "version": 3
   },
   "file_extension": ".py",
   "mimetype": "text/x-python",
   "name": "python",
   "nbconvert_exporter": "python",
   "pygments_lexer": "ipython3",
   "version": "3.8.8"
  }
 },
 "nbformat": 4,
 "nbformat_minor": 4
}
